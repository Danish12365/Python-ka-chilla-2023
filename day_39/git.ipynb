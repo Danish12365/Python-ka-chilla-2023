{
 "cells": [
  {
   "cell_type": "markdown",
   "metadata": {},
   "source": [
    "Git commands\n",
    "\n",
    "Git in it    (for add git in folder)\n",
    "git status    (for check status)\n",
    "git add .    (for add all files)\n",
    "git add ..    (for add one file)\n",
    "git add filename    (for add one file)\n",
    "git add . -A    (for add all files)\n",
    "git status    (for check status)\n",
    "git commit -m \"message\"    (for commit)\n",
    "git log    (for log for which person and what he change)\n",
    "git show HEAD    (show last commit)\n",
    "\n",
    "\n",
    "git add .\n",
    "git status\n",
    "git commit -m \"message\"\n",
    "git push\n",
    "\n"
   ]
  },
  {
   "cell_type": "code",
   "execution_count": null,
   "metadata": {},
   "outputs": [],
   "source": []
  }
 ],
 "metadata": {
  "kernelspec": {
   "display_name": "tf_env",
   "language": "python",
   "name": "python3"
  },
  "language_info": {
   "name": "python",
   "version": "3.9.18"
  }
 },
 "nbformat": 4,
 "nbformat_minor": 2
}
