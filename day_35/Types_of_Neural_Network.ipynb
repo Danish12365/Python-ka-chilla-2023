{
 "cells": [
  {
   "cell_type": "markdown",
   "metadata": {},
   "source": [
    "#  Types of Neural Network in Deep Learning\n",
    "\n",
    "Written by: M.Danish Azeem\\\n",
    "Date: 02.13.2024\\\n",
    "Email: danishazeem365@gmail.com"
   ]
  },
  {
   "cell_type": "markdown",
   "metadata": {},
   "source": [
    "\n",
    "Assignment #(1)   \n",
    "Time stamp   17:05 \n",
    "\n",
    "# 5 examples of structured and unstructured data in real life  and CNN  RNNs  and standard neural network examples where they use \n",
    "\n",
    "## Structured and Unstructured Data Examples:\n",
    "\n",
    "**Structured Data:**\n",
    "\n",
    "1. **Sensor data:** Measurements from temperature sensors, GPS coordinates, or financial transactions often stored in tables with well-defined fields.\n",
    "2. **Customer records:** Information about customers in a database, including demographics, purchase history, and contact details.\n",
    "3. **Medical records:** Patient diagnoses, test results, and medication data formatted in standardized formats.\n",
    "4. **Spreadsheet data:** Financial reports, inventory lists, and scientific datasets organized in rows and columns.\n",
    "5. **Webpage content:** Extracted text, meta-data, and titles from structured website formats.\n",
    "\n",
    "**Unstructured Data:**\n",
    "\n",
    "1. **Images and videos:** Pixels capturing scenes, objects, or actions without predefined formats.\n",
    "2. **Text documents:** Emails, social media posts, news articles, and blog entries with rich semantic information.\n",
    "3. **Audio recordings:** Speech, music, and environmental sounds lacking inherent structure.\n",
    "4. **Sensor data streams:** Continuous real-time data feeds without fixed intervals or formats.\n",
    "5. **Social media interactions:** Likes, comments, and shares, requiring analysis to understand their meaning.\n",
    "\n",
    "## Neural Network Applications:\n",
    "\n",
    "**CNNs (Convolutional Neural Networks):**\n",
    "\n",
    "* **Image classification:** Identifying objects, scenes, or activities in images (e.g., medical X-ray analysis, self-driving cars).\n",
    "* **Object detection:** Locating and bounding objects within images (e.g., face detection in photos, product identification in retail).\n",
    "* **Image segmentation:** Grouping pixels into meaningful regions or classes (e.g., semantic segmentation of medical images, background removal in editing).\n",
    "\n",
    "**RNNs (Recurrent Neural Networks):**\n",
    "\n",
    "* **Machine translation:** Translating text from one language to another, accounting for word order and context (e.g., Google Translate, DeepL).\n",
    "* **Text generation:** Creating human-like text, including chatbots, creative writing, and code generation.\n",
    "* **Speech recognition:** Transcribing spoken language into text, requiring understanding of sequential sounds and context (e.g., Google Assistant, Alexa).\n",
    "* **Time series forecasting:** Predicting future values in time-based data (e.g., stock market trends, weather forecasting).\n",
    "\n",
    "**Standard Neural Networks (NNs):**\n",
    "\n",
    "* **Classification:** Categorizing data points into different classes (e.g., spam detection, sentiment analysis).\n",
    "* **Regression:** Predicting numerical values based on input data (e.g., sales forecasting, customer churn prediction).\n",
    "* **Recommendation systems:** Suggesting relevant items to users based on their preferences and past behavior (e.g., Netflix recommendations, Amazon product suggestions).\n",
    "\n",
    "Remember that these are just a few examples, and neural networks can be used for various tasks within each category and applied to diverse real-world problems. Choose the network type that best suits your data format and the specific problem you're trying to solve."
   ]
  },
  {
   "cell_type": "code",
   "execution_count": null,
   "metadata": {},
   "outputs": [],
   "source": []
  }
 ],
 "metadata": {
  "language_info": {
   "name": "python"
  }
 },
 "nbformat": 4,
 "nbformat_minor": 2
}
