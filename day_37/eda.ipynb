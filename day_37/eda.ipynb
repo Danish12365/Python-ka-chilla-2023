{
 "cells": [
  {
   "cell_type": "markdown",
   "metadata": {},
   "source": [
    "Pandas-Profiling is a fantastic library for automating Exploratory Data Analysis (EDA) in Python. It quickly generates comprehensive reports summarizing your data's characteristics, saving you time and effort"
   ]
  },
  {
   "cell_type": "code",
   "execution_count": 1,
   "metadata": {},
   "outputs": [
    {
     "name": "stdout",
     "output_type": "stream",
     "text": [
      "Defaulting to user installation because normal site-packages is not writeable\n",
      "Requirement already satisfied: pandas in c:\\programdata\\miniconda3\\envs\\tf_env\\lib\\site-packages (2.2.0)\n",
      "Collecting profiling\n",
      "  Using cached profiling-0.1.3.tar.gz (36 kB)\n",
      "  Preparing metadata (setup.py): started\n",
      "  Preparing metadata (setup.py): finished with status 'done'\n",
      "Requirement already satisfied: numpy<2,>=1.22.4 in c:\\programdata\\miniconda3\\envs\\tf_env\\lib\\site-packages (from pandas) (1.26.3)\n",
      "Requirement already satisfied: python-dateutil>=2.8.2 in c:\\programdata\\miniconda3\\envs\\tf_env\\lib\\site-packages (from pandas) (2.8.2)\n",
      "Requirement already satisfied: pytz>=2020.1 in c:\\programdata\\miniconda3\\envs\\tf_env\\lib\\site-packages (from pandas) (2024.1)\n",
      "Requirement already satisfied: tzdata>=2022.7 in c:\\programdata\\miniconda3\\envs\\tf_env\\lib\\site-packages (from pandas) (2023.4)\n",
      "Collecting valuedispatch>=0.0.1 (from profiling)\n",
      "  Using cached valuedispatch-0.0.1-py3-none-any.whl\n",
      "Requirement already satisfied: click>=4.1 in c:\\programdata\\miniconda3\\envs\\tf_env\\lib\\site-packages (from profiling) (8.1.7)\n",
      "Collecting click-default-group>=1.2 (from profiling)\n",
      "  Using cached click_default_group-1.2.4-py2.py3-none-any.whl.metadata (2.8 kB)\n",
      "Requirement already satisfied: six>=1.8.0 in c:\\programdata\\miniconda3\\envs\\tf_env\\lib\\site-packages (from profiling) (1.16.0)\n",
      "Collecting urwid>=1.2.1 (from profiling)\n",
      "  Using cached urwid-2.6.1-py3-none-any.whl.metadata (11 kB)\n",
      "Requirement already satisfied: colorama in c:\\programdata\\miniconda3\\envs\\tf_env\\lib\\site-packages (from click>=4.1->profiling) (0.4.6)\n",
      "Requirement already satisfied: typing-extensions in c:\\programdata\\miniconda3\\envs\\tf_env\\lib\\site-packages (from urwid>=1.2.1->profiling) (4.9.0)\n",
      "Requirement already satisfied: wcwidth in c:\\programdata\\miniconda3\\envs\\tf_env\\lib\\site-packages (from urwid>=1.2.1->profiling) (0.2.5)\n",
      "Using cached click_default_group-1.2.4-py2.py3-none-any.whl (4.1 kB)\n",
      "Using cached urwid-2.6.1-py3-none-any.whl (291 kB)\n",
      "Building wheels for collected packages: profiling\n",
      "  Building wheel for profiling (setup.py): started\n",
      "  Building wheel for profiling (setup.py): finished with status 'error'\n",
      "  Running setup.py clean for profiling\n",
      "Failed to build profiling\n",
      "Note: you may need to restart the kernel to use updated packages.\n"
     ]
    },
    {
     "name": "stderr",
     "output_type": "stream",
     "text": [
      "  error: subprocess-exited-with-error\n",
      "  \n",
      "  × python setup.py bdist_wheel did not run successfully.\n",
      "  │ exit code: 1\n",
      "  ╰─> [30 lines of output]\n",
      "      running bdist_wheel\n",
      "      running build\n",
      "      running build_py\n",
      "      creating build\n",
      "      creating build\\lib.win-amd64-cpython-39\n",
      "      creating build\\lib.win-amd64-cpython-39\\profiling\n",
      "      copying profiling\\profiler.py -> build\\lib.win-amd64-cpython-39\\profiling\n",
      "      copying profiling\\sortkeys.py -> build\\lib.win-amd64-cpython-39\\profiling\n",
      "      copying profiling\\stats.py -> build\\lib.win-amd64-cpython-39\\profiling\n",
      "      copying profiling\\utils.py -> build\\lib.win-amd64-cpython-39\\profiling\n",
      "      copying profiling\\viewer.py -> build\\lib.win-amd64-cpython-39\\profiling\n",
      "      copying profiling\\__about__.py -> build\\lib.win-amd64-cpython-39\\profiling\n",
      "      copying profiling\\__init__.py -> build\\lib.win-amd64-cpython-39\\profiling\n",
      "      copying profiling\\__main__.py -> build\\lib.win-amd64-cpython-39\\profiling\n",
      "      creating build\\lib.win-amd64-cpython-39\\profiling\\remote\n",
      "      copying profiling\\remote\\asyncio.py -> build\\lib.win-amd64-cpython-39\\profiling\\remote\n",
      "      copying profiling\\remote\\background.py -> build\\lib.win-amd64-cpython-39\\profiling\\remote\n",
      "      copying profiling\\remote\\client.py -> build\\lib.win-amd64-cpython-39\\profiling\\remote\n",
      "      copying profiling\\remote\\gevent.py -> build\\lib.win-amd64-cpython-39\\profiling\\remote\n",
      "      copying profiling\\remote\\select.py -> build\\lib.win-amd64-cpython-39\\profiling\\remote\n",
      "      copying profiling\\remote\\__init__.py -> build\\lib.win-amd64-cpython-39\\profiling\\remote\n",
      "      creating build\\lib.win-amd64-cpython-39\\profiling\\sampling\n",
      "      copying profiling\\sampling\\samplers.py -> build\\lib.win-amd64-cpython-39\\profiling\\sampling\n",
      "      copying profiling\\sampling\\__init__.py -> build\\lib.win-amd64-cpython-39\\profiling\\sampling\n",
      "      creating build\\lib.win-amd64-cpython-39\\profiling\\tracing\n",
      "      copying profiling\\tracing\\timers.py -> build\\lib.win-amd64-cpython-39\\profiling\\tracing\n",
      "      copying profiling\\tracing\\__init__.py -> build\\lib.win-amd64-cpython-39\\profiling\\tracing\n",
      "      running build_ext\n",
      "      building 'profiling.speedup' extension\n",
      "      error: Microsoft Visual C++ 14.0 or greater is required. Get it with \"Microsoft C++ Build Tools\": https://visualstudio.microsoft.com/visual-cpp-build-tools/\n",
      "      [end of output]\n",
      "  \n",
      "  note: This error originates from a subprocess, and is likely not a problem with pip.\n",
      "  ERROR: Failed building wheel for profiling\n",
      "ERROR: Could not build wheels for profiling, which is required to install pyproject.toml-based projects\n"
     ]
    }
   ],
   "source": [
    "pip install pandas profiling"
   ]
  },
  {
   "cell_type": "markdown",
   "metadata": {},
   "source": [
    "# Time Series Analysis-(Part-2)"
   ]
  },
  {
   "cell_type": "markdown",
   "metadata": {},
   "source": [
    "# how to convert degree celsius into fahrenheit\n",
    "\n",
    "**Temperature conversion:**\n",
    "\n",
    "* **Celsius to Fahrenheit:** °F = (°C × 9/5) + 32\n",
    "* **Fahrenheit to Celsius:** °C = (°F - 32) × 5/9\n",
    "\n",
    "**Example:** Convert 20°C to Fahrenheit:\n",
    "20°F = (20 × 9/5) + 32 = 68°F\n",
    "\n",
    "**Distance conversion:**\n",
    "\n",
    "* **Kilometers to miles:** miles = kilometers × 0.621371\n",
    "* **Miles to kilometers:** kilometers = miles × 1.609344\n",
    "\n",
    "**Example:** Convert 10 kilometers to miles:\n",
    "10 miles = 10 × 0.621371 ≈ 6.21 miles\n",
    "\n",
    "**Other formulas:**\n",
    "\n",
    "I can also help you with various other calculations with formulas. Just let me know what you want to convert or calculate, and I'll provide the necessary information.\n",
    "\n",
    "**Here are some examples:**\n",
    "\n",
    "* Area: Calculate the area of a rectangle with length `l` and width `w`: area = l × w\n",
    "* Volume: Calculate the volume of a cube with side length `s`: volume = s³\n",
    "* Speed: Convert meters per second (m/s) to kilometers per hour (km/h): speed (km/h) = speed (m/s) × 3.6\n",
    "* Pressure: Convert Pascals (Pa) to atmospheres (atm): pressure (atm) = pressure (Pa) / 101325\n",
    "\n",
    "I am always happy to help with any conversions or calculations you need!"
   ]
  },
  {
   "cell_type": "markdown",
   "metadata": {},
   "source": [
    "## p (mbar)T (degC)Tpot (K)Tdew (degC)rh (%)VPmax (mbar)VPact (mbar)VPdef (mbar)sh (g/kg)H2OC (mmol/mol)rho (g/m**3)wv (m/s)max. wv (m/s)wd (deg)                      explain these\n",
    "\n",
    "The list you provided appears to contain various meteorological variables. Here's an explanation of each variable:\n",
    "\n",
    "1. **p (mbar)**: Atmospheric pressure in millibars (mbar). Atmospheric pressure is the force exerted by the weight of air above a given point in the atmosphere and is typically measured in millibars or hectopascals (hPa).\n",
    "\n",
    "2. **T (degC)**: Temperature in degrees Celsius (°C). It represents the measure of the average kinetic energy of the molecules in the air.\n",
    "\n",
    "3. **Tpot (K)**: Potential temperature in Kelvin (K). Potential temperature is the temperature a parcel of dry air would have if it were brought adiabatically (without transfer of heat) to a standard reference pressure level (usually 1000 hPa).\n",
    "\n",
    "4. **Tdew (degC)**: Dew point temperature in degrees Celsius (°C). The dew point is the temperature at which air becomes saturated with water vapor and condensation begins to occur. It is a measure of atmospheric humidity.\n",
    "\n",
    "5. **rh (%)**: Relative humidity as a percentage (%). Relative humidity is the ratio of the partial pressure of water vapor in the air to the saturation vapor pressure at a given temperature, expressed as a percentage.\n",
    "\n",
    "6. **VPmax (mbar)**: Saturation vapor pressure in millibars (mbar). It represents the maximum amount of water vapor that can exist in the air at a given temperature. It is also known as the saturation vapor pressure.\n",
    "\n",
    "7. **VPact (mbar)**: Actual vapor pressure in millibars (mbar). It represents the pressure exerted by water vapor molecules in the air.\n",
    "\n",
    "8. **VPdef (mbar)**: Vapor pressure deficit in millibars (mbar). It is the difference between the saturation vapor pressure and the actual vapor pressure at a given temperature.\n",
    "\n",
    "9. **sh (g/kg)**: Specific humidity in grams per kilogram (g/kg). Specific humidity is the mass of water vapor present in a unit mass of air.\n",
    "\n",
    "10. **H2OC (mmol/mol)**: Water vapor concentration in millimoles per mole (mmol/mol). It represents the concentration of water vapor molecules in the air relative to the total number of air molecules.\n",
    "\n",
    "11. **rho (g/m^3)**: Air density in grams per cubic meter (g/m^3). Air density is the mass of air per unit volume and is influenced by temperature, pressure, and humidity.\n",
    "\n",
    "12. **wv (m/s)**: Wind velocity in meters per second (m/s). It represents the speed at which air is moving horizontally.\n",
    "\n",
    "13. **max. wv (m/s)**: Maximum wind velocity in meters per second (m/s). It represents the maximum speed of horizontal air movement observed during a specific period.\n",
    "\n",
    "14. **wd (deg)**: Wind direction in degrees (°). It represents the direction from which the wind is blowing, measured clockwise from true north.\n",
    "\n",
    "These variables are commonly used in meteorology to characterize the state of the atmosphere and are essential for weather forecasting, climate studies, and various other applications."
   ]
  }
 ],
 "metadata": {
  "kernelspec": {
   "display_name": "tf_env",
   "language": "python",
   "name": "python3"
  },
  "language_info": {
   "codemirror_mode": {
    "name": "ipython",
    "version": 3
   },
   "file_extension": ".py",
   "mimetype": "text/x-python",
   "name": "python",
   "nbconvert_exporter": "python",
   "pygments_lexer": "ipython3",
   "version": "3.9.18"
  }
 },
 "nbformat": 4,
 "nbformat_minor": 2
}
