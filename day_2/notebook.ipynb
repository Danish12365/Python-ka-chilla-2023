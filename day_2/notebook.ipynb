{
 "cells": [
  {
   "cell_type": "markdown",
   "metadata": {},
   "source": [
    "ctr+ /    for commentout\n",
    "\n",
    "Assignment #(1) \n",
    "\n",
    " \n",
    "Top 10 extensions for vs coad\n",
    "\n",
    "by chatgpt\n",
    "1. Python (by Microsoft)\n",
    "2. GitLens — Git supercharged\n",
    "3. ESLint\n",
    "4. Prettier - Code formatter\n",
    "5. Bracket Pair Colorizer\n",
    "6. Live Server\n",
    "7. Docker\n",
    "8. Remote - SSH\n",
    "9. Material Icon Theme\n",
    "10. Code Runner\n",
    "\n",
    "By Google\\\n",
    "Python :\n",
    "For data scientists, Python is an indispensable programming language. The Python extension for VS Code is a powerful tool that enhances the Python development experience. It offers a range of features such as code formatting, linting, debugging, and intellisense. With a vast ecosystem of libraries and frameworks available, this extension provides automatic detection of virtual environments, simplifying package management and enabling a smooth workflow.\n",
    "\n",
    "Jupyter :\n",
    "Jupyter Notebooks have revolutionized the way data scientists work, combining code, documentation, and visualization in a single interactive environment. The Jupyter extension for VS Code allows you to seamlessly edit and run Jupyter notebooks directly within the editor. It supports code execution, markdown cells, interactive widgets, and even exporting notebooks to different formats. By leveraging this extension, you can consolidate your work into a single environment and leverage the powerful features of VS Code.\n",
    "\n",
    "Git :\n",
    "Collaboration and version control are essential aspects of data science projects. The Git extension for VS Code simplifies the management of Git repositories, enabling you to track changes, create branches, commit code, and collaborate with ease. Its intuitive interface and seamless integration with popular Git platforms like GitHub make it a go-to tool for version control.\n",
    "\n",
    "Code Runner :\n",
    "The Code Runner extension is a versatile tool that allows you to run code snippets in various programming languages, including Python, R, Julia, and more. With customizable keyboard shortcuts and support for different file types, Code Runner provides a quick and hassle-free way to execute code within VS Code. It also offers features like running code selections and displaying results in the output window, aiding in rapid prototyping and debugging.\n",
    "\n",
    "IntelliCode :\n",
    "IntelliCode is an AI-powered extension that augments the intelligence of VS Code. Leveraging machine learning, IntelliCode suggests intelligent code completions based on your coding patterns and the open-source community's practices. For data scientists, this extension significantly speeds up development by offering context-aware suggestions, reducing keystrokes, and enhancing overall productivity.\n",
    "\n",
    "Excel Viewer :\n",
    "Working with data often involves dealing with spreadsheets, and the Excel Viewer extension makes it easy to view and manipulate Excel files directly within VS Code. It offers features like cell formatting, filtering, searching, and sorting, providing a seamless integration between your code and spreadsheet data. This extension proves particularly handy when performing data wrangling and analysis tasks.\n",
    "\n",
    "SQL Server :\n",
    "Data scientists frequently interact with relational databases, and the SQL Server extension for VS Code simplifies this process. It offers an integrated development environment (IDE) for working with SQL Server databases, providing features like IntelliSense, syntax highlighting, and code snippets. With this extension, you can write and execute SQL queries, manage connections, and visualize query results without leaving the editor.\n",
    "\n",
    "R  :\n",
    "For data scientists who prefer R as their programming language, the R extension for VS Code provides a comprehensive set of tools. It offers features like syntax highlighting, code formatting, IntelliSense, and debugging capabilities specifically tailored for R development. This extension enables seamless integration with R packages and libraries, making it a valuable asset for R users in the data science field.\n",
    "\n",
    "Pandas :\n",
    "Pandas is a popular library for data manipulation and analysis in Python. The Pandas extension for VS Code brings the power of Pandas directly to your editor. It provides features like automatic formatting, linting, and IntelliSense for Pandas data structures, making it easier to write, debug, and optimize Pandas code. With this extension, you can streamline your data cleaning, preprocessing, and analysis tasks within the familiar VS Code environment.\n",
    "\n",
    "Matplotlib :\n",
    "Data visualization is a key aspect of data science, and the Matplotlib extension for VS Code enables interactive plotting and visualization capabilities. With this extension, you can generate plots, customize visualizations, and even save them as image files directly within the editor. It provides a convenient interface to tweak plot parameters, visualize data distributions, and gain insights from your data without leaving the coding environment.\n"
   ]
  }
 ],
 "metadata": {
  "language_info": {
   "name": "python"
  }
 },
 "nbformat": 4,
 "nbformat_minor": 2
}
