{
 "cells": [
  {
   "cell_type": "markdown",
   "metadata": {},
   "source": [
    "\n",
    "#  Anaconda/miniconda environments | crash course | Python for Data Science - 55 minutes\n",
    "\n",
    "\n",
    "Written by: M.Danish Azeem\\\n",
    "Date: 01.04.2024\\\n",
    "Email: danishazeem365@gmail.com"
   ]
  },
  {
   "cell_type": "markdown",
   "metadata": {},
   "source": [
    "Assignment #(1)  where i stop?  Time stamp   06:04 \n",
    "\n",
    "Assignment #(2)   Time stamp   18:21  kis trakey say text file bnaney kay bad is ko use kirtey hoey enviorment creat kir sakitey  hain?\n",
    "\n",
    "Create an Environment YAML File then Create Conda Environment:Activate the Environment:Use the Environment: pip install -r requirements.txt  or conda install --yes --file requirments.txt\n",
    "\n",
    "\n",
    "\n",
    "\n",
    "Mini conda commands: conda env list ,conda list , conda info , conda update conda , conda install python , conda install spyder , conda update panda , conda update --help , conda create -n pandas_env , conda activate pandas_env , conda list , pip install pandas ,pip  install pandas numpy matplotlib seaborn scipy statsmodel scikit-learn , conda create --clone pandas_env --name pandas_env2 , cd Desktop (for going desktop), dir (for list of desktop) , cd conda (for going to conda folder) , create -n bio_env biopython , conda search python , conda search r  (then)  conda install python=3.12.1 , To stop a conda command press ctr+c or ctr+\\  , conda create -n jupyter-nb jupyter ,  jupyter-notebook  ( to run notebook) , conda env remove --name pandas_env2  (run as Administrative),  conda remove --name base spyder , conda install --channel conda-forge python=3.4 , conda install python=3.4 --channel conda-forge --channel bioconda , conda create --name ppy37 --copy --clone ppy34 , where python, python --version ,pip install numpy==1.11 , conda list ,conda search pandas , conda remove --name pandas_env python ( pip install cant be remove by conda ) \n"
   ]
  },
  {
   "cell_type": "markdown",
   "metadata": {},
   "source": [
    "### Assignment #(1)\n",
    "Time stamp: 06:04\n",
    "\n",
    "### Assignment #(2)\n",
    "Time stamp: 18:21\n",
    "\n",
    "#### Creating an Environment YAML File and Conda Environment:\n",
    "\n",
    "1. Create an environment YAML file.\n",
    "2. Create a Conda environment using the YAML file.\n",
    "\n",
    "```bash\n",
    "# Activate the environment\n",
    "conda activate <environment_name>\n",
    "\n",
    "# Use the environment\n",
    "<command>\n",
    "\n",
    "# Install dependencies using pip\n",
    "pip install -r requirements.txt\n",
    "\n",
    "# Or using conda\n",
    "conda install --yes --file requirements.txt\n",
    "```\n",
    "\n",
    "#### Mini Conda Commands:\n",
    "\n",
    "- `conda env list`\n",
    "- `conda list`\n",
    "- `conda info`\n",
    "- `conda update conda`\n",
    "- `conda install python`\n",
    "- `conda install spyder`\n",
    "- `conda update pandas`\n",
    "- `conda update --help`\n",
    "- `conda create -n pandas_env`\n",
    "- `conda activate pandas_env`\n",
    "- `conda list`\n",
    "- `pip install pandas numpy matplotlib seaborn scipy statsmodel scikit-learn`\n",
    "- `conda create --clone pandas_env --name pandas_env2`\n",
    "- `cd Desktop` (for going to the desktop)\n",
    "- `dir` (for listing the desktop contents)\n",
    "- `cd conda` (for going to the conda folder)\n",
    "- `create -n bio_env biopython`\n",
    "- `conda search python`\n",
    "- `conda search r` (then) `conda install python=3.12.1`\n",
    "- To stop a conda command, press `Ctrl+C` or `Ctrl+\\`\n",
    "- `conda create -n jupyter-nb jupyter`\n",
    "- `jupyter-notebook` (to run the notebook)\n",
    "- `conda env remove --name pandas_env2` (run as Administrative)\n",
    "- `conda remove --name base spyder`\n",
    "- `conda install --channel conda-forge python=3.4`\n",
    "- `conda install python=3.4 --channel conda-forge --channel bioconda`\n",
    "- `conda create --name ppy37 --copy --clone ppy34`\n",
    "- `where python`\n",
    "- `python --version`\n",
    "- `pip install numpy==1.11`\n",
    "- `conda list`\n",
    "- `conda search pandas`\n",
    "- `conda remove --name pandas_env python` (pip install can't be removed by conda)"
   ]
  },
  {
   "cell_type": "markdown",
   "metadata": {},
   "source": [
    "C:\\Users\\Danish>cd Desktop\n",
    "\n",
    "C:\\Users\\Danish\\Desktop>mkdir Da_k\n",
    "\n",
    "C:\\Users\\Danish\\Desktop>cd Da_k\n",
    "\n",
    "C:\\Users\\Danish\\Desktop\\Da_k>git clone -----------\n",
    "C:\\Users\\Danish\\Desktop\\Da_k>cd local_repo\n",
    "C:\\WINDOWS\\system32>cd Desktop\n",
    "The system cannot find the path specified.\n",
    "C:\\Windows\\System32\\Desktop>mkdir Desktop\n",
    "C:\\Windows\\System32\\Desktop>cd Da_k\n",
    "\n",
    "C:\\Windows\\System32\\Desktop\\Da_k>cd ..\n",
    "\n",
    "C:\\Windows\\System32\\Desktop>\n"
   ]
  }
 ],
 "metadata": {
  "language_info": {
   "name": "python"
  }
 },
 "nbformat": 4,
 "nbformat_minor": 2
}
