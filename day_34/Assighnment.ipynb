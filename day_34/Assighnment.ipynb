{
 "cells": [
  {
   "cell_type": "markdown",
   "metadata": {},
   "source": [
    "#  How many epochs should we run in tensorflow\n",
    "\n",
    "Written by: M.Danish Azeem\\\n",
    "Date: 02.12.2024\\\n",
    "Email: danishazeem365@gmail.com"
   ]
  },
  {
   "cell_type": "markdown",
   "metadata": {},
   "source": [
    "Assignment #(1)  \n",
    " \n",
    "Time stamp   9:11\n",
    "\n",
    "# send me classifing values."
   ]
  },
  {
   "cell_type": "markdown",
   "metadata": {},
   "source": [
    "Assignment #(2)  \n",
    " \n",
    "Time stamp   17:20\n",
    "\n",
    "# What is a class in Python?\n",
    "A class is a code template for creating objects. Objects have member variables and have behaviour associated with them. In python a class is created by the keyword class . An object is created using the constructor of the class. This object will then be called the instance of the class."
   ]
  },
  {
   "cell_type": "code",
   "execution_count": null,
   "metadata": {},
   "outputs": [],
   "source": [
    "import tensorflow as tf\n",
    "# call back function\n",
    "class myCallback(tf.keras.callbacks.Callback): \n",
    "    def on_epoch_end(self, epoch, logs={}):\n",
    "        ...    \n",
    "# Halts the training after reaching 60 percent accuracy\n",
    "\n",
    "\n",
    "Args:\n",
    "# epoch (integer) - index of epoch (required but unused in the function definition below) logs (dict) metric results from the training epoch\n",
    "# Check accuracy\n",
    "if(logs.get('loss') < 0.25):\n",
    "\n",
    "# Stop if threshold is met\n",
    "print(\"\\nLoss is lower than 0.4 so cancelling training!\")\n",
    "self.model.stop_training = True\n",
    "# Instantiate class\n",
    "callbacks = myCallback()"
   ]
  }
 ],
 "metadata": {
  "kernelspec": {
   "display_name": "tf_env",
   "language": "python",
   "name": "python3"
  },
  "language_info": {
   "name": "python",
   "version": "0.0.0"
  }
 },
 "nbformat": 4,
 "nbformat_minor": 2
}
