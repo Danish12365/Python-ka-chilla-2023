{
 "cells": [
  {
   "cell_type": "markdown",
   "metadata": {},
   "source": [
    "Time stamp   41:25\\\n",
    "Assignment #(1)\n",
    "\n",
    "    BODMAS standing for Brackets, Operations, Division/Multiplication, Addition/Subtraction.\n",
    "      BEDMAS standing for Brackets, Exponents, Division/Multiplication, Addition/Subtraction                (\" ** \" means exponent or power)   \n",
    "      PEMDAS standing for Parentheses, Exponents, Multiplication, Division, Addition, Subtraction.\n",
    "\n",
    "      (python use PEMDAS RULE)\n",
    "      \n",
    "     What is Pemdas vs Bodmas vs Bodmas?\n",
    "Maths Mnemonics Showdown: PEMDAS vs BODMAS for Calculation ...\n",
    "Here's the secret: it might not sound like it, but our wacky acronyms all stand for exactly the same thing, in the same order: PEMDAS = Parentheses, Exponents, Multiplication, Division, Addition, Subtraction. Whereas BIDMAS and BODMAS = Brackets, Indices (Orders), Division, Multiplication, Addition, Subtraction.\n",
    " \n",
    "\n",
    "\n",
    "\n",
    "\n",
    "Time stamp 53:17\\\n",
    "Assignment #(2)   Top 5 ide,s in vs code.\n",
    "\n",
    " IDEs, or Integrated Development Environments, are usually more feature-rich and include tools for debugging, building and deploying code. \n",
    "\n",
    "by google\n",
    "\n",
    "1. IDLE 2. PyCharm 3. Visual Studio Code 4. Sublime Text 3  5. Atom\n",
    "\n",
    "By chat gpt\n",
    "\n",
    "PyCharm\\\n",
    "Visual Studio Code (VS Code)\\\n",
    "Spyder\\\n",
    "Jupyter Notebook\\\n",
    "IDLE (Python's Integrated Development and Learning Environment)\n"
   ]
  }
 ],
 "metadata": {
  "language_info": {
   "name": "python"
  }
 },
 "nbformat": 4,
 "nbformat_minor": 2
}
