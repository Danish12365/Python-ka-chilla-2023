{
 "cells": [
  {
   "cell_type": "markdown",
   "metadata": {},
   "source": [
    "# Firt time using jupyter nb\n",
    "Written by: M.Danish Azeem\\\n",
    "Date: 07.11.2023\\\n",
    "Email: danishazeem365@gmail.com\\\n",
    "[lectre 5]()"
   ]
  },
  {
   "cell_type": "code",
   "execution_count": 1,
   "metadata": {},
   "outputs": [
    {
     "name": "stdout",
     "output_type": "stream",
     "text": [
      "('apple', 'banana', 'pineapple', 'mango', 'peach')\n"
     ]
    }
   ],
   "source": [
    "fruit_basket = (\"apple\", \"banana\", \"pineapple\",\"mango\" ,\"peach\")\n",
    "print(fruit_basket)\n"
   ]
  },
  {
   "cell_type": "code",
   "execution_count": 3,
   "metadata": {},
   "outputs": [
    {
     "name": "stdout",
     "output_type": "stream",
     "text": [
      "('Aalo', 'Paz', 'mirch', 'Dhania', 'Kema', 'Mada', 'namek')\n"
     ]
    }
   ],
   "source": [
    "samosa = ('Aalo', 'Paz' ,'mirch' , 'Dhania' , 'Kema' , 'Mada', 'namek')\n",
    "print(samosa)"
   ]
  },
  {
   "cell_type": "code",
   "execution_count": 4,
   "metadata": {},
   "outputs": [
    {
     "data": {
      "text/plain": [
       "-58.0"
      ]
     },
     "execution_count": 4,
     "metadata": {},
     "output_type": "execute_result"
    }
   ],
   "source": [
    "x=2+3+9-9*12*(2/3)\n",
    "x"
   ]
  },
  {
   "cell_type": "code",
   "execution_count": null,
   "metadata": {},
   "outputs": [],
   "source": [
    "# 1. Pandas\n",
    "# 2. numpy\n",
    "# 3. matplotlib   \n",
    "# 4. seaborn\n",
    "# 5. plotly\n",
    "# 6. scipy\n",
    "# 7. scikit-learn\n",
    "# 8. steamlist\n",
    "\n",
    "# C:\\Users\\Danish\\AppData\\Local\\Programs\\Python\\Python312\\Scripts\\jupyter nbconvert --to pdf Libraries.ipynb\n",
    "\n"
   ]
  },
  {
   "cell_type": "code",
   "execution_count": null,
   "metadata": {},
   "outputs": [],
   "source": [
    "# pip install matplotlib seaborn plotly "
   ]
  },
  {
   "cell_type": "code",
   "execution_count": 1,
   "metadata": {},
   "outputs": [],
   "source": [
    "import pandas as pd\n",
    "import numpy as np\n",
    "import matplotlib.pyplot as plt\n",
    "import seaborn as sns\n",
    "import plotly as px\n",
    "\n"
   ]
  },
  {
   "cell_type": "markdown",
   "metadata": {},
   "source": [
    "(1) convert jupyter notebook in pdf\n",
    "\n",
    "(2) pandas full form in python\n",
    "   \n",
    " \"Pandas\" is an open-source data analysis and manipulation library for Python. The name \"Pandas\" is derived from the term \"Panel Data,\" which is an econometrics term for data sets that include observations over multiple time periods for the same individuals. Pandas is widely used in data science, machine learning, and other fields for handling and analyzing structured data.\n",
    "\n",
    "The full form of \"Pandas\" is not actually an acronym. It's derived from the term \"Panel Data,\" as mentioned earlier, and was created by Wes McKinney, who developed the library while working at AQR Capital Management.\n",
    "\n",
    "Pandas provides data structures for efficiently storing large datasets and tools for working with them. \n",
    "\n",
    "note:\\\n",
    "import pandas as pd\\\n",
    "import numpy as np\\\n",
    "import matplotlib.pyplot as plt\\\n",
    "import seaborn as sns\\\n",
    "import plotly as px\n"
   ]
  }
 ],
 "metadata": {
  "kernelspec": {
   "display_name": "Python 3",
   "language": "python",
   "name": "python3"
  },
  "language_info": {
   "codemirror_mode": {
    "name": "ipython",
    "version": 3
   },
   "file_extension": ".py",
   "mimetype": "text/x-python",
   "name": "python",
   "nbconvert_exporter": "python",
   "pygments_lexer": "ipython3",
   "version": "3.12.0"
  }
 },
 "nbformat": 4,
 "nbformat_minor": 2
}
