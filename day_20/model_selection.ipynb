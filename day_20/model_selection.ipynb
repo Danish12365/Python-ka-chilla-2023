{
 "cells": [
  {
   "cell_type": "markdown",
   "metadata": {},
   "source": [
    "# Machine Learning in Scikit Learn Day-20\n",
    "\n",
    "\n",
    "\n",
    "Written by: M.Danish Azeem\\\n",
    "Date: 01.20.2024\\\n",
    "Email: danishazeem365@gmail.com"
   ]
  },
  {
   "cell_type": "markdown",
   "metadata": {},
   "source": [
    "# Best model selection"
   ]
  },
  {
   "cell_type": "code",
   "execution_count": 2,
   "metadata": {},
   "outputs": [
    {
     "name": "stdout",
     "output_type": "stream",
     "text": [
      "Accuracy Score:  Random Forest 0.82\n",
      "Accuracy Score:  Logistic Regression 0.81\n",
      "Accuracy Score:  Decision Tree 0.75\n",
      "Accuracy Score:  KNN 0.69\n",
      "Accuracy Score:  SVM 0.66\n"
     ]
    }
   ],
   "source": [
    "\n",
    "# import libraries\n",
    "import pandas as pd\n",
    "import numpy as np\n",
    "import seaborn as sns\n",
    "import matplotlib.pyplot as plt\n",
    "\n",
    "\n",
    "df = sns.load_dataset(\"titanic\")\n",
    "X = df[['pclass', 'sex', 'age', 'sibsp', 'parch', 'fare']]\n",
    "y = df['survived']\n",
    "X = pd.get_dummies (X, columns=['sex'])\n",
    "X.age.fillna(value = X['age'].mean(), inplace=True)\n",
    "\n",
    "\n",
    "from sklearn.linear_model import LogisticRegression\n",
    "from sklearn.svm import SVC\n",
    "from sklearn.tree import DecisionTreeClassifier\n",
    "from sklearn.ensemble import RandomForestClassifier\n",
    "from sklearn.neighbors import KNeighborsClassifier\n",
    "from sklearn.metrics import accuracy_score, f1_score, precision_score, recall_score\n",
    "from sklearn.model_selection import train_test_split\n",
    "\n",
    "\n",
    "X_train, X_test, y_train, y_test = train_test_split(X, y, test_size=0.2, random_state=42)\n",
    "\n",
    "models = [LogisticRegression(), SVC(), DecisionTreeClassifier(), RandomForestClassifier(), KNeighborsClassifier()]\n",
    "model_names = ['Logistic Regression', 'SVM', 'Decision Tree', 'Random Forest', 'KNN']\n",
    "\n",
    "models_scores = []\n",
    "for model, model_name in zip(models, model_names):\n",
    "    model.fit(X_train, y_train)  # Indent here\n",
    "    y_pred = model.predict(X_test)\n",
    "    accuracy = accuracy_score(y_test, y_pred)\n",
    "    models_scores.append([model_name,accuracy])\n",
    "\n",
    "sorted_models = sorted(models_scores, key=lambda x: x[1], reverse=True)\n",
    "for model in sorted_models:\n",
    "    print(\"Accuracy Score: \",f'{model[0]} {model[1]:.2f}')\n"
   ]
  },
  {
   "cell_type": "markdown",
   "metadata": {},
   "source": [
    "# Note\n",
    "## only change these for any data for classification and chek your accurecy score.\n",
    "df = sns.load_dataset(\"titanic\")\\\n",
    "X = df[['pclass', 'sex', 'age', 'sibsp', 'parch', 'fare']]\\\n",
    "y = df['survived']\n",
    "\n",
    "\n",
    "## only 3 changes accuracy and all the code is same\n",
    "\n",
    "**accuracy** = **accuracy_score**(y_test, y_pred)\\\n",
    "    models_scores.append([model_name,**accuracy**])\n",
    "\n",
    "    Precision = precision_score(y_test, y_pred)\n",
    "    models_scores.append([model_name,Precision])\n",
    "\n",
    "    Recall = recall_score(y_test, y_pred)\n",
    "    models_scores.append([model_name,Recall])\n",
    "\n",
    "    F1 = f1_score(y_test, y_pred)\n",
    "    models_scores.append([model_name,F1])\n"
   ]
  },
  {
   "cell_type": "code",
   "execution_count": 3,
   "metadata": {},
   "outputs": [
    {
     "name": "stdout",
     "output_type": "stream",
     "text": [
      "Precision Score:  Logistic Regression : 0.80\n",
      "Precision Score:  Random Forest : 0.78\n",
      "Precision Score:  SVM : 0.76\n",
      "Precision Score:  Decision Tree : 0.71\n",
      "Precision Score:  KNN : 0.66\n"
     ]
    }
   ],
   "source": [
    "models = [LogisticRegression(), SVC(), DecisionTreeClassifier(), RandomForestClassifier(), KNeighborsClassifier()]\n",
    "model_names = ['Logistic Regression', 'SVM', 'Decision Tree', 'Random Forest', 'KNN']\n",
    "models_scores = []\n",
    "for model, model_name in zip(models, model_names):\n",
    "    model.fit(X_train, y_train)\n",
    "    y_pred = model.predict(X_test)\n",
    "    Precision = precision_score(y_test, y_pred)\n",
    "    models_scores.append([model_name,Precision])\n",
    "\n",
    "sorted_models = sorted(models_scores, key=lambda x: x[1], reverse=True)\n",
    "for model in sorted_models:\n",
    "    print(\"Precision Score: \", f'{model[0]} : {model[1]:.2f}')"
   ]
  },
  {
   "cell_type": "code",
   "execution_count": 4,
   "metadata": {},
   "outputs": [
    {
     "name": "stdout",
     "output_type": "stream",
     "text": [
      "Recall Score:  Logistic Regression : 0.72\n",
      "Recall Score:  Decision Tree : 0.70\n",
      "Recall Score:  Random Forest : 0.70\n",
      "Recall Score:  KNN : 0.54\n",
      "Recall Score:  SVM : 0.26\n"
     ]
    }
   ],
   "source": [
    "models = [LogisticRegression(), SVC(), DecisionTreeClassifier(), RandomForestClassifier(), KNeighborsClassifier()]\n",
    "model_names = ['Logistic Regression', 'SVM', 'Decision Tree', 'Random Forest', 'KNN']\n",
    "models_scores = []\n",
    "for model, model_name in zip(models, model_names):\n",
    "    model.fit(X_train, y_train)\n",
    "    y_pred = model.predict(X_test)\n",
    "    Recall = recall_score(y_test, y_pred)\n",
    "    models_scores.append([model_name,Recall])\n",
    "\n",
    "sorted_models = sorted(models_scores, key=lambda x: x[1], reverse=True)\n",
    "for model in sorted_models:\n",
    "    print(\"Recall Score: \",f'{model[0]} : {model[1]:.2f}')"
   ]
  },
  {
   "cell_type": "code",
   "execution_count": 5,
   "metadata": {},
   "outputs": [
    {
     "name": "stdout",
     "output_type": "stream",
     "text": [
      "F1 Score:  Random Forest : 0.77\n",
      "F1 Score:  Logistic Regression : 0.76\n",
      "F1 Score:  Decision Tree : 0.70\n",
      "F1 Score:  KNN : 0.59\n",
      "F1 Score:  SVM : 0.38\n"
     ]
    }
   ],
   "source": [
    "models = [LogisticRegression(), SVC(), DecisionTreeClassifier(), RandomForestClassifier(), KNeighborsClassifier()]\n",
    "model_names = ['Logistic Regression', 'SVM', 'Decision Tree', 'Random Forest', 'KNN']\n",
    "models_scores = []\n",
    "for model, model_name in zip(models, model_names):\n",
    "    model.fit(X_train, y_train)\n",
    "    y_pred = model.predict(X_test)\n",
    "    F1 = f1_score(y_test, y_pred)\n",
    "    models_scores.append([model_name,F1])\n",
    "\n",
    "sorted_models = sorted(models_scores, key=lambda x: x[1], reverse=True)\n",
    "for model in sorted_models:\n",
    "    print(\"F1 Score: \",f'{model[0]} : {model[1]:.2f}')\n"
   ]
  },
  {
   "cell_type": "markdown",
   "metadata": {},
   "source": [
    "# Assignment # 1\n",
    "\n",
    "# Time stamp 07:51\n",
    "\n",
    "# X_train, X_test, y_train, y_test = train_test_split(X, y, test_size=0.2, random_state=42)    : what is mean of random _state=42  explain it\n",
    "\n",
    "\n",
    "\n",
    " **Here's a breakdown of the meaning of `random_state=42` in the `train_test_split` function:**\n",
    "\n",
    "**Purpose:**\n",
    "\n",
    "- It controls the randomness of the data splitting process.\n",
    "- It ensures that the same random split is generated each time you run the code, making results reproducible.\n",
    "\n",
    "**How It Works:**\n",
    "\n",
    "1. **Internal Random Number Generator:** The function employs a random number generator (RNG) to shuffle the data before splitting it.\n",
    "2. **Seeding the RNG:** The `random_state` argument acts as a seed for this RNG.\n",
    "3. **Same Seed, Same Sequence:** Setting `random_state` to a specific value guarantees that the RNG produces the same sequence of random numbers each time, leading to consistent splits.\n",
    "\n",
    "**Key Points:**\n",
    "\n",
    "- **Reproducibility:** Using `random_state` is crucial for ensuring reproducibility of results, especially when comparing model performance across multiple runs.\n",
    "- **Arbitrary Number:** The specific value of `42` is a common convention, but any integer can be used as the seed.\n",
    "- **Default Behavior:** If `random_state` is not set, the function uses a random seed based on the current system time, resulting in different splits each time.\n",
    "\n",
    "**Example:**\n",
    "\n",
    "- If you run `train_test_split` twice with `random_state=42`, you'll get the same exact training and testing sets both times.\n",
    "- Without setting `random_state`, you'll likely get different splits each time, even with the same data and parameters.\n",
    "\n",
    "**Importance in Machine Learning:**\n",
    "\n",
    "- **Comparative Analysis:** Reproducibility is essential for comparing different models or hyperparameter settings fairly.\n",
    "- **Collaboration and Sharing:** It facilitates collaboration and result sharing by enabling others to replicate your results using the same data splits.\n"
   ]
  },
  {
   "cell_type": "markdown",
   "metadata": {},
   "source": [
    "# Assignment # 2\n",
    "\n",
    "# Time stamp  10:54\n",
    "\n",
    "# sorted_models = sorted(models_scores, key=lambda x: x[1], reverse=True)   what is lambda function \n",
    "\n",
    "\n",
    "\n",
    "In Python, a lambda function is a small, anonymous function defined using the `lambda` keyword. It allows you to create a function without formally using the `def` keyword. The general syntax of a lambda function is:\n",
    "\n",
    "```python\n",
    "lambda arguments: expression\n",
    "```\n",
    "\n",
    "Here, `arguments` are the input parameters, and `expression` is a single expression that is evaluated and returned. Lambda functions are often used for short, simple operations where a full function definition is not necessary.\n",
    "\n",
    "In the context of your code snippet:\n",
    "\n",
    "```python\n",
    "sorted_models = sorted(models_scores, key=lambda x: x[1], reverse=True)\n",
    "```\n",
    "\n",
    "Here, `lambda x: x[1]` defines a lambda function that takes an argument `x` and returns the element at index 1 of `x`. This lambda function is then used as the `key` argument in the `sorted` function. The `sorted` function will sort the elements of `models_scores` based on the values returned by the lambda function, which is the second element of each tuple in `models_scores`.\n",
    "\n",
    "In simple terms, this line of code sorts the list `models_scores` based on the second element of each tuple in descending order."
   ]
  },
  {
   "cell_type": "markdown",
   "metadata": {},
   "source": [
    "# Assignment # 3\n",
    "\n",
    "# Time stamp  22:20\n",
    "\n",
    "# use the data from kaggle do ml and eda and data wragling analysis and sellect the best model of classification.\n",
    "\n",
    "## create id on kaggle\n",
    "\n"
   ]
  },
  {
   "cell_type": "markdown",
   "metadata": {},
   "source": [
    "# Assignment # 4\n",
    "\n",
    "# Time stamp  \n",
    "\n",
    "# Explain best model code or comment this code\n",
    "This code performs the following steps:\n",
    "\n",
    "1. Imports necessary libraries: `pandas`, `numpy`, `seaborn`, and `matplotlib.pyplot`.\n",
    "2. Loads the Titanic dataset using seaborn's `load_dataset` function and extracts features `X` and target variable `y`.\n",
    "3. Selects specific columns from the features (`'pclass'`, `'sex'`, `'age'`, `'sibsp'`, `'parch'`, `'fare'`) and one-hot encodes the `'sex'` column using `pd.get_dummies`.\n",
    "4. Fills missing values in the `'age'` column with the mean age.\n",
    "5. Imports machine learning models (`LogisticRegression`, `SVC`, `DecisionTreeClassifier`, `RandomForestClassifier`, `KNeighborsClassifier`) and evaluation metrics (`accuracy_score`, `f1_score`, `precision_score`, `recall_score`) from scikit-learn.\n",
    "6. Splits the data into training and testing sets using `train_test_split`.\n",
    "7. Creates a list of models and their corresponding names.\n",
    "8. Iterates over each model, fits it to the training data, predicts on the test data, and calculates accuracy.\n",
    "9. Stores the model names and their corresponding accuracy scores in the `models_scores` list.\n",
    "10. Sorts the models based on accuracy in descending order.\n",
    "11. Prints the accuracy scores for each model.\n",
    "\n",
    "The code uses a common machine learning workflow to compare the performance of different classification models on the Titanic dataset. It focuses on the accuracy metric and prints the results in descending order. Note that depending on the dataset and problem, you may want to consider other metrics and perform more in-depth analysis, such as hyperparameter tuning or cross-validation, for a comprehensive evaluation of model performance.\n",
    "\n"
   ]
  }
 ],
 "metadata": {
  "kernelspec": {
   "display_name": "Python 3",
   "language": "python",
   "name": "python3"
  },
  "language_info": {
   "codemirror_mode": {
    "name": "ipython",
    "version": 3
   },
   "file_extension": ".py",
   "mimetype": "text/x-python",
   "name": "python",
   "nbconvert_exporter": "python",
   "pygments_lexer": "ipython3",
   "version": "3.12.0"
  }
 },
 "nbformat": 4,
 "nbformat_minor": 2
}
