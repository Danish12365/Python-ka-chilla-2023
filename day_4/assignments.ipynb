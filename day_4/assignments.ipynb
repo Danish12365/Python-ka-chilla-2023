{
 "cells": [
  {
   "cell_type": "markdown",
   "metadata": {},
   "source": [
    "Time stamp\\\n",
    "Assignment #(1)\n",
    "\n",
    "(1)write names of payton resorve wordes? \n",
    "   \n",
    " and       as        assert    async     await\n",
    "break     class     continue  def       del\n",
    "elif      else      except    False     finally\n",
    "for       from      global    if        import\n",
    "in        is        lambda    None      nonlocal\n",
    "not       or        pass      raise     return\n",
    "True      try       while     with      yield\n",
    "\n",
    "\n",
    "\n",
    "\n",
    "Time stamp   55:10\n",
    "Assignment #(2)\n",
    "\n",
    "(2) whey we use double == operator  instead of = operator in python when and why and where?\n",
    "\n",
    "In Python, a single equal sign = is used for assignment, while two consecutive equal signs == are used for comparison. The expression a = 10 will assign variable \n",
    "a a value of 10.\n",
    "\n",
    "\n",
    "The == operator compares the value or equality of two objects, whereas the Python is operator checks whether two variables point to the same object in memory.\n",
    " In the vast majority of cases, this means you should use the equality operators == and !=\n",
    "\n",
    "Single = is an assignment operator used to assign the value to the variable. Double = = is rational operator used to compare two variable whether they are equal or not\n",
    "\n",
    "\n",
    "(3) list of assignment operators in python\n",
    "\n",
    "=\tx = 5\tx = 5\t\n",
    "+=\tx += 3\tx = x + 3\t\n",
    "-=\tx -= 3\tx = x - 3\t\n",
    "*=\tx *= 3\tx = x * 3\t\n",
    "/=\tx /= 3\tx = x / 3\t\n",
    "%=\tx %= 3\tx = x % 3\t\n",
    "//=\tx //= 3\tx = x // 3\t\n",
    "**=\tx **= 3\tx = x ** 3\t\n",
    "&=\tx &= 3\tx = x & 3\t\n",
    "|=\tx |= 3\tx = x | 3\t\n",
    "^=\tx ^= 3\tx = x ^ 3\t\n",
    ">>=\tx >>= 3\tx = x >> 3\t\n",
    "<<="
   ]
  }
 ],
 "metadata": {
  "language_info": {
   "name": "python"
  }
 },
 "nbformat": 4,
 "nbformat_minor": 2
}
