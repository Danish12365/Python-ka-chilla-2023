{
 "cells": [
  {
   "cell_type": "markdown",
   "metadata": {},
   "source": [
    "#  Computer Vision in Python\n",
    "\n",
    "Written by: M.Danish Azeem\\\n",
    "Date: 02.08.2024\\\n",
    "Email: danishazeem365@gmail.com"
   ]
  },
  {
   "cell_type": "markdown",
   "metadata": {},
   "source": [
    "## 920x1080 Pixels Fhd tv how many pixels per inching 24 inch tv\n",
    "24-inch FHD TV with a resolution of 1920x1080 pixels has approximately 92.11 pixels per inch.\n",
    "\n",
    "## 4k tv how many pixels per inching 24 inch tv\n",
    "24-inch 4K TV with a resolution of 3840 x 2160 pixels has approximately 183.58 pixels per inch, significantly higher than a 24-inch FHD TV.\n",
    "\n",
    "Assignment #(1)   \n",
    "Time stamp   37:48 \n",
    "\n",
    "### How tones made 265 by adding black and white in image on pixel base on 8 bit?\n",
    "\n",
    "Understanding 8-bit Gray Images:\n",
    "\n",
    "Each pixel in an 8-bit grayscale image can store 2^8 = 256 different values, representing intensities from pure black (0) to pure white (255).\n",
    "This means you have 256 \"steps\" for creating shades of gray.\n",
    "Creating 265 Tones:\n",
    "\n",
    "To achieve 265 tones, you need to divide the available 256 steps into 265 equal intervals. However, 256 is not perfectly divisible by 265. Therefore, you have two basic approaches:\n",
    "\n",
    "1. Nearest Neighbor Approach:\n",
    "\n",
    "Divide 256 by 265 to get an approximate interval size of interval = floor(256 / 265) ≈ 0.9698.\n",
    "For each pixel value in your image:\n",
    "Find the nearest multiple of the interval that is less than or equal to the pixel value.\n",
    "This new value becomes the revised pixel value representing one of the 265 tones.\n",
    "2. Bilinear Interpolation Approach:\n",
    "\n",
    "This method provides a smoother transition between tones but requires slightly more computation.\n",
    "For each pixel value:\n",
    "Find the two nearest multiples of the interval that border the pixel value (one lower and one higher).\n",
    "Calculate the distances between the pixel value and each of these multiples.\n",
    "Use linear interpolation to create a weighted average of the two neighboring values based on their distances.\n",
    "The result becomes the revised pixel value representing one of the 265 tones."
   ]
  },
  {
   "cell_type": "markdown",
   "metadata": {},
   "source": [
    "# pip install opencv-python"
   ]
  }
 ],
 "metadata": {
  "language_info": {
   "name": "python"
  }
 },
 "nbformat": 4,
 "nbformat_minor": 2
}
