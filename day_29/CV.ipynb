{
 "cells": [
  {
   "cell_type": "markdown",
   "metadata": {},
   "source": [
    "#  Computer Vision in Python\n",
    "\n",
    "Written by: M.Danish Azeem\\\n",
    "Date: 02.08.2024\\\n",
    "Email: danishazeem365@gmail.com"
   ]
  },
  {
   "cell_type": "markdown",
   "metadata": {},
   "source": [
    "## 1920x1080 Pixels Fhd tv how many pixels per inching 24 inch tv\n",
    "24-inch FHD TV with a resolution of 1920x1080 pixels has approximately 92.11 pixels per inch.\n",
    "\n",
    "## 4k tv how many pixels per inching 24 inch tv\n",
    "24-inch 4K TV with a resolution of 3840 x 2160 pixels has approximately 183.58 pixels per inch, significantly higher than a 24-inch FHD TV.\n",
    "\n",
    "## what is bit depth\n",
    "Bit depth refers to the number of bits used to represent the color of each pixel in an image or the amplitude of the sound in audio data. It's a measure of color precision or dynamic range.\n",
    "\n",
    "1. **In Images**: In the context of images, bit depth determines the number of colors or shades that can be represented. For example:\n",
    "   - A 1-bit image has two colors (typically black and white).\n",
    "   - An 8-bit image can represent 256 colors.\n",
    "   - A 24-bit image (commonly known as TrueColor) can represent over 16 million colors.\n",
    "   - A 32-bit image typically includes an extra alpha channel for transparency information.\n",
    "   \n",
    "   Higher bit depths generally result in more accurate and detailed images, especially when dealing with gradients and subtle color variations.\n",
    "\n",
    "2. **In Audio**: In audio data, bit depth refers to the resolution of the audio samples. It determines the dynamic range, or the difference between the quietest and loudest sounds that can be represented. Common bit depths for audio include:\n",
    "   - 8-bit audio provides 256 levels of amplitude.\n",
    "   - 16-bit audio provides 65,536 levels, which is the standard for CDs.\n",
    "   - 24-bit audio provides 16,777,216 levels, offering greater dynamic range and fidelity, commonly used in professional audio production.\n",
    "\n",
    "Higher bit depths in audio result in less quantization noise and better fidelity, especially when recording and processing audio with a wide dynamic range.\n",
    "\n",
    "In both cases, higher bit depth allows for greater precision in representing colors or audio samples, resulting in higher quality output. However, higher bit depths also require more storage space and computational resources.\n",
    "\n",
    "Assignment #(1)   \n",
    "Time stamp   37:48 \n",
    "\n",
    "## How tones made 265 by adding black and white in image on pixel base on 8 bit?\n",
    "\n",
    "Understanding 8-bit Gray Images:\n",
    "\n",
    "Each pixel in an 8-bit grayscale image can store 2^8 = 256 different values, representing intensities from pure black (0) to pure white (255).\n",
    "This means you have 256 \"steps\" for creating shades of gray.\n",
    "Creating 265 Tones:\n",
    "\n",
    "To achieve 265 tones, you need to divide the available 256 steps into 265 equal intervals. However, 256 is not perfectly divisible by 265. Therefore, you have two basic approaches:\n",
    "\n",
    "1. Nearest Neighbor Approach:\n",
    "\n",
    "Divide 256 by 265 to get an approximate interval size of interval = floor(256 / 265) ≈ 0.9698.\n",
    "For each pixel value in your image:\n",
    "Find the nearest multiple of the interval that is less than or equal to the pixel value.\n",
    "This new value becomes the revised pixel value representing one of the 265 tones.\n",
    "2. Bilinear Interpolation Approach:\n",
    "\n",
    "This method provides a smoother transition between tones but requires slightly more computation.\n",
    "For each pixel value:\n",
    "Find the two nearest multiples of the interval that border the pixel value (one lower and one higher).\n",
    "Calculate the distances between the pixel value and each of these multiples.\n",
    "Use linear interpolation to create a weighted average of the two neighboring values based on their distances.\n",
    "The result becomes the revised pixel value representing one of the 265 tones."
   ]
  },
  {
   "cell_type": "markdown",
   "metadata": {},
   "source": [
    "# pip install opencv-python"
   ]
  }
 ],
 "metadata": {
  "language_info": {
   "name": "python"
  }
 },
 "nbformat": 4,
 "nbformat_minor": 2
}
