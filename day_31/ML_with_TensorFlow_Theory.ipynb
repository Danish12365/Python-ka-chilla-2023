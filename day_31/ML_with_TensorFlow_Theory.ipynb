{
 "cells": [
  {
   "cell_type": "markdown",
   "metadata": {},
   "source": [
    "#  ML with TensorFlow Theory and Activation Functions\n",
    "\n",
    "Written by: M.Danish Azeem\\\n",
    "Date: 02.10.2024\\\n",
    "Email: danishazeem365@gmail.com"
   ]
  },
  {
   "cell_type": "code",
   "execution_count": 1,
   "metadata": {},
   "outputs": [
    {
     "name": "stdout",
     "output_type": "stream",
     "text": [
      "WARNING:tensorflow:From c:\\ProgramData\\miniconda3\\envs\\tf_env\\lib\\site-packages\\keras\\src\\losses.py:2976: The name tf.losses.sparse_softmax_cross_entropy is deprecated. Please use tf.compat.v1.losses.sparse_softmax_cross_entropy instead.\n",
      "\n"
     ]
    }
   ],
   "source": [
    "import pandas as pd\n",
    "import numpy as np\n",
    "from tensorflow import keras\n",
    "import tensorflow as tf"
   ]
  },
  {
   "cell_type": "code",
   "execution_count": 2,
   "metadata": {},
   "outputs": [],
   "source": [
    "# Load the Fashion MNIST dataset\n",
    "fmnist = tf.keras.datasets.fashion_mnist\n",
    "# Load the training and test split of the Fashion MNIST dataset\n",
    "(training_images, training_labels), (test_images, test_labels) = fmnist.load_data()"
   ]
  },
  {
   "cell_type": "code",
   "execution_count": 4,
   "metadata": {},
   "outputs": [
    {
     "name": "stdout",
     "output_type": "stream",
     "text": [
      "WARNING:tensorflow:From c:\\ProgramData\\miniconda3\\envs\\tf_env\\lib\\site-packages\\keras\\src\\backend.py:873: The name tf.get_default_graph is deprecated. Please use tf.compat.v1.get_default_graph instead.\n",
      "\n"
     ]
    }
   ],
   "source": [
    "# Build the classification model\n",
    "model = tf.keras.models.Sequential([tf.keras.layers.Flatten(), \n",
    "                                    tf.keras.layers.Dense(128, activation=tf.nn.relu), \n",
    "                                    tf.keras.layers.Dense(10, activation=tf.nn.softmax)])"
   ]
  },
  {
   "cell_type": "markdown",
   "metadata": {},
   "source": [
    "# Difference between Flatten and Dense layer in neural networks?\n",
    "\n",
    "Both Flatten and Dense layers are important components in neural networks, but they serve different purposes:\n",
    "\n",
    "**Flatten Layer:**\n",
    "\n",
    "* **Function:** Reshapes the input data from a multi-dimensional tensor (e.g., image of 28x28 pixels) into a single-dimensional vector.\n",
    "* **Application:** Typically used after convolutional layers in Convolutional Neural Networks (CNNs) to connect the learned features to fully connected layers (Dense layers).\n",
    "* **Impact:** Does not perform any calculations, simply changes the data format.\n",
    "* **Parameters:** No learnable parameters associated with the layer.\n",
    "\n",
    "**Dense Layer:**\n",
    "\n",
    "* **Function:** Applies a linear transformation to the input data using weights and biases.\n",
    "* **Application:** Used for various tasks like classification, regression, or feature extraction.\n",
    "* **Impact:** Learns patterns and relationships in the data by adjusting its weights and biases during training.\n",
    "* **Parameters:** Each neuron in the Dense layer has learnable weights and biases, contributing to the model's complexity.\n",
    "\n",
    "**Summary Table:**\n",
    "\n",
    "| Feature | Flatten Layer | Dense Layer |\n",
    "|---|---|---|\n",
    "| Function | Reshapes data | Applies linear transformation |\n",
    "| Application | After convolutional layers | Various tasks |\n",
    "| Impact | No calculations, changes data format | Learns patterns, affects predictions |\n",
    "| Parameters | No learnable parameters | Learnable weights and biases |\n",
    "\n",
    "**Choosing the right layer:**\n",
    "\n",
    "* Use Flatten after convolutional layers to prepare data for fully connected layers.\n",
    "* Use Dense layers for various tasks depending on your network architecture and goals.\n",
    "\n",
    "**Additional notes:**\n",
    "\n",
    "* Flatten layer is considered part of the network architecture but doesn't contribute directly to learning.\n",
    "* Dense layers are essential for learning and making predictions.\n",
    "* The number of neurons in a Dense layer affects its complexity and learning capacity.\n",
    "\n"
   ]
  },
  {
   "cell_type": "code",
   "execution_count": null,
   "metadata": {},
   "outputs": [],
   "source": [
    "import tensorflow as tf\n",
    "fmnist = tf.keras.datasets.fashion_mnist\n",
    "(training_images, training_labels), (test_images, test_images) = fmnist.load_data()\n",
    "\n",
    "model =  tf.keras.models.Sequential([tf.keras.layers.Flatten(),\n",
    "                                     tf.keras.layers.Dense(128, activation=tf.nn.relu),\n",
    "                                     tf.keras.layers.Dense(10, activation=tf.nn.softmax)])\n",
    "                        "
   ]
  },
  {
   "cell_type": "code",
   "execution_count": null,
   "metadata": {},
   "outputs": [],
   "source": [
    "model = tf.keras.models.Sequential([tf.keras.layers.Flatten(), \n",
    "                                    tf.keras.layers.Dense(128, activation=tf.nn.relu), \n",
    "                                    tf.keras.layers.Dense(10, activation=tf.nn.softmax)])"
   ]
  }
 ],
 "metadata": {
  "kernelspec": {
   "display_name": "tf_env",
   "language": "python",
   "name": "python3"
  },
  "language_info": {
   "codemirror_mode": {
    "name": "ipython",
    "version": 3
   },
   "file_extension": ".py",
   "mimetype": "text/x-python",
   "name": "python",
   "nbconvert_exporter": "python",
   "pygments_lexer": "ipython3",
   "version": "0.0.0"
  }
 },
 "nbformat": 4,
 "nbformat_minor": 2
}
