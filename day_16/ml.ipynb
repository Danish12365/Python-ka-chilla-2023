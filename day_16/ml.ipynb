{
 "cells": [
  {
   "cell_type": "markdown",
   "metadata": {},
   "source": [
    "\n",
    "#  Machine learning\n",
    "\n",
    "Written by: M.Danish Azeem\\\n",
    "Date: 01.10.2024\\\n",
    "Email: danishazeem365@gmail.com"
   ]
  },
  {
   "cell_type": "markdown",
   "metadata": {},
   "source": [
    "# Assighnment #1\n",
    "\n",
    "## Machine learning (ML) vs Deep learning (DL) vs and Artificial Intelligence (AI) what is difference between them?\n",
    "\n",
    "Machine learning (ML), deep learning (DL), and artificial intelligence (AI) are related concepts but have distinct differences. Here's an overview of each:\n",
    "\n",
    "1. **Artificial Intelligence (AI):**\n",
    "   - **Definition:** AI refers to the broader concept of creating machines or systems that can perform tasks that typically require human intelligence. These tasks include problem-solving, learning, understanding natural language, speech recognition, and visual perception.\n",
    "   - **Examples:** Virtual assistants (like Siri or Alexa), image recognition software, autonomous vehicles, and game-playing algorithms (e.g., AlphaGo).\n",
    "\n",
    "2. **Machine Learning (ML):**\n",
    "   - **Definition:** ML is a subset of AI that involves the development of algorithms and statistical models that enable computers to perform tasks without explicit programming. ML focuses on the idea that systems can learn and improve from experience.\n",
    "   - **Examples:** Predictive analytics, recommendation systems (e.g., Netflix recommendations), fraud detection, and speech recognition.\n",
    "\n",
    "3. **Deep Learning (DL):**\n",
    "   - **Definition:** Deep learning is a specialized subset of machine learning that involves neural networks with multiple layers (deep neural networks). These networks, inspired by the structure and function of the human brain, can automatically learn hierarchical representations of data.\n",
    "   - **Examples:** Image and speech recognition (e.g., facial recognition software), natural language processing (e.g., language translation), and autonomous vehicles.\n",
    "\n",
    "In summary, AI is the overarching concept of creating intelligent machines, ML is a subset of AI focusing on learning from data, and DL is a subset of ML specifically utilizing deep neural networks for complex tasks. Deep learning is a technique within the broader field of machine learning, and both fall under the umbrella of artificial intelligence.\n"
   ]
  },
  {
   "cell_type": "markdown",
   "metadata": {},
   "source": [
    "# Assighnment #2\n",
    "\n",
    " ## Data set kay inder 'feature' aur 'lables' ko or kis kis nam say pokara jita ha in machin learning?\n",
    "\n",
    "A typical dataset in the context of machine learning is comprised of two main components: features and labels. These components go by different names depending on the context, but here are the common terms used:\n",
    "\n",
    "1. **Features:**\n",
    "   - **Also known as:** Independent variables, predictors, input variables.\n",
    "   - **Definition:** Features are the input variables or attributes that are used as input to a machine learning model. They represent the different aspects or characteristics of the data that the model will use to make predictions or classifications.\n",
    "\n",
    "2. **Labels:**\n",
    "   - **Also known as:** Dependent variable, target variable, output variable.\n",
    "   - **Definition:** Labels are the output or outcome variable that the machine learning model is trying to predict. In supervised learning, the model is trained on a dataset where both features and labels are provided. The model learns the relationship between the features and the labels during the training process.\n",
    "\n",
    "For example, in a dataset aimed at predicting whether an email is spam or not based on certain characteristics, the features might include the length of the email, the presence of certain keywords, etc. The label would indicate whether the email is spam (1) or not (0).\n",
    "\n",
    "In summary, features are the input variables that describe the data, and labels are the output variables that the model aims to predict or classify. The specific terms used may vary slightly depending on the literature or context, but the concepts remain consistent.\n",
    "\n"
   ]
  },
  {
   "cell_type": "markdown",
   "metadata": {},
   "source": [
    "# Assighnment #3\n",
    "# Time stamp   01:16:54\n",
    "\n",
    " # Why boston dataset removed from scikit-learn? \n",
    " \n",
    " **Here's a summary of the reasons for removing the Boston housing dataset from scikit-learn:**\n",
    "\n",
    "**Ethical Concerns:**\n",
    "\n",
    "- **Racial Bias:** The dataset's construction involved a variable that researchers historically used as a proxy for race, potentially perpetuating harmful biases in models trained on it.\n",
    "- **Social Impact:** Using such datasets without careful consideration can reinforce existing societal inequities and discrimination.\n",
    "\n",
    "**Data Quality Issues:**\n",
    "\n",
    "- **Outdated:** The data is from 1978, potentially containing outdated patterns and relationships that might not reflect current housing dynamics.\n",
    "- **Small Size:** With only 506 samples, it's relatively small for modern machine learning tasks, limiting model generalization and insights.\n",
    "\n",
    "**Alternatives:**\n",
    "\n",
    "- **Ames Housing Dataset:** scikit-learn now offers the Ames Housing dataset, a larger and more recent collection of housing data without the same ethical concerns.\n",
    "- **Other Public Datasets:** Many other datasets are available for regression and machine learning tasks, covering various domains and addressing ethical considerations.\n",
    "\n",
    "**Key Considerations:**\n",
    "\n",
    "- **Responsible Use of Data:** It's crucial to evaluate datasets for potential biases and social impacts before using them to build models.\n",
    "- **Transparency and Reproducibility:** Clearly document any potential ethical issues associated with datasets and models to promote transparency and accountability.\n",
    "- **Community Engagement:** Engage with diverse stakeholders to address ethical concerns and promote responsible AI practices.\n",
    "\n",
    "**By removing the Boston dataset, scikit-learn aims to:**\n",
    "\n",
    "- Encourage the use of more ethical and representative datasets.\n",
    "- Promote awareness of potential biases in data and models.\n",
    "- Foster a culture of responsible and inclusive machine learning.\n"
   ]
  }
 ],
 "metadata": {
  "kernelspec": {
   "display_name": "Python 3",
   "language": "python",
   "name": "python3"
  },
  "language_info": {
   "name": "python",
   "version": "3.12.0"
  }
 },
 "nbformat": 4,
 "nbformat_minor": 2
}
