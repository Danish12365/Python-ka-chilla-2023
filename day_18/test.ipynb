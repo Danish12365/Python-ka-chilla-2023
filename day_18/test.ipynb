{
 "cells": [
  {
   "cell_type": "code",
   "execution_count": 5,
   "metadata": {},
   "outputs": [],
   "source": [
    "# import librases\n",
    "import pandas as pd \n",
    "import seaborn as sns\n",
    "import numpy as np\n",
    "import matplotlib.pyplot  as plt\n",
    "\n",
    "# other\n",
    "from sklearn.model_selection import train_test_split\n",
    "from sklearn.tree import DecisionTreeClassifier\n",
    "from sklearn.metrics import accuracy_score, confusion_matrix\n",
    "\n"
   ]
  },
  {
   "cell_type": "code",
   "execution_count": 4,
   "metadata": {},
   "outputs": [
    {
     "name": "stdout",
     "output_type": "stream",
     "text": [
      "Mean Squared Error (MSE): 0.1000\n",
      "R-squared (R2): 0.8551\n",
      "\n",
      "Coefficients:\n",
      "            Variable  Coefficient\n",
      "0   sepal width (cm)     0.633032\n",
      "1  petal length (cm)     0.794471\n",
      "2   petal width (cm)    -0.535030\n",
      "3             target    -0.222276\n",
      "\n",
      "Intercept: 1.7638465717372247\n"
     ]
    }
   ],
   "source": [
    "import numpy as np\n",
    "import pandas as pd\n",
    "from sklearn.model_selection import train_test_split\n",
    "from sklearn.linear_model import LinearRegression\n",
    "from sklearn.metrics import mean_squared_error, r2_score\n",
    "from sklearn.datasets import load_iris\n",
    "\n",
    "# Load the Iris dataset\n",
    "iris = load_iris()\n",
    "iris_df = pd.DataFrame(data=np.c_[iris['data'], iris['target']], columns=iris['feature_names'] + ['target'])\n",
    "\n",
    "# Consider one feature as the dependent variable (e.g., 'sepal length (cm)')\n",
    "dependent_variable = 'sepal length (cm)'\n",
    "independent_variables = [col for col in iris_df.columns if col != dependent_variable]\n",
    "\n",
    "# Split the data into training and testing sets\n",
    "X_train, X_test, y_train, y_test = train_test_split(\n",
    "    iris_df[independent_variables], iris_df[dependent_variable], test_size=0.2, random_state=42\n",
    ")\n",
    "\n",
    "# Create and fit a multilinear regression model\n",
    "model = LinearRegression()\n",
    "model.fit(X_train, y_train)\n",
    "\n",
    "# Make predictions on the test set\n",
    "y_pred = model.predict(X_test)\n",
    "\n",
    "# Evaluate the model\n",
    "mse = mean_squared_error(y_test, y_pred)\n",
    "r2 = r2_score(y_test, y_pred)\n",
    "\n",
    "print(f'Mean Squared Error (MSE): {mse:.4f}')\n",
    "print(f'R-squared (R2): {r2:.4f}')\n",
    "\n",
    "# Print the coefficients and intercept\n",
    "coefficients = pd.DataFrame({'Variable': independent_variables, 'Coefficient': model.coef_})\n",
    "print('\\nCoefficients:')\n",
    "print(coefficients)\n",
    "print('\\nIntercept:', model.intercept_)\n"
   ]
  }
 ],
 "metadata": {
  "kernelspec": {
   "display_name": "Python 3",
   "language": "python",
   "name": "python3"
  },
  "language_info": {
   "codemirror_mode": {
    "name": "ipython",
    "version": 3
   },
   "file_extension": ".py",
   "mimetype": "text/x-python",
   "name": "python",
   "nbconvert_exporter": "python",
   "pygments_lexer": "ipython3",
   "version": "3.12.0"
  }
 },
 "nbformat": 4,
 "nbformat_minor": 2
}
