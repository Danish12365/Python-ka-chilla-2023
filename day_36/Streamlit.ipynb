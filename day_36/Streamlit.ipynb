{
 "cells": [
  {
   "cell_type": "markdown",
   "metadata": {},
   "source": []
  },
  {
   "cell_type": "markdown",
   "metadata": {},
   "source": [
    "creat -n streamlit python=3.8     (create streamlit environment)\n",
    "conda activate streamlit          (activate streamlit environment)\n",
    "conda deactivate                 (deactivate streamlit environment)\n",
    "conda env list                    (list all environment)\n",
    "conda list                        (list all environment)\n",
    "cd Desktop                        (go to desktop)\n",
    "cd C:\\Users\\Danish \\Desktop     (if desktop not work use path)\n",
    "mkdir straeamlit_dashboards     (creat straeamlit_dashboards folder)\n",
    "cd straeamlit_dashboards         (to go to folder)                      C:\\Users\\Danish\\Desktop\\Python ka chilla 2023\n",
    "pip install -r requirements.txt    (install all packages from txt file)\n",
    "streamlit run test.ipynb          (run streamlit)\n",
    "Desktop\\Python ka chilla 2023\\day_36>streamlit run test2.py  (run streamlit)\n",
    "C:\\ProgramData\\miniconda3\\envs\\tf_env\\Scripts         (if streamlit not work use path)\n",
    "'ctr+shift+p' and then 'Teminal sellect default profile'          (open default open terminal in vscode)\n",
    "\n",
    "C:\\Users\\Danish\\AppData\\Roaming\\Python\\Python39\\site-packages\\pydantic\\_migration.pyc\n",
    "C:\\Users\\Danish\\AppData\\Roaming\\Python\\Python39\\Scripts\n"
   ]
  }
 ],
 "metadata": {
  "kernelspec": {
   "display_name": "tf_env",
   "language": "python",
   "name": "python3"
  },
  "language_info": {
   "name": "python",
   "version": "3.9.18"
  }
 },
 "nbformat": 4,
 "nbformat_minor": 2
}
